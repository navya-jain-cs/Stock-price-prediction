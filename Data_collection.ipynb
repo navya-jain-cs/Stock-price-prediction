{
 "cells": [
  {
   "cell_type": "code",
   "execution_count": 1,
   "id": "e8c82821-d183-4856-bae9-ed7cf09adfff",
   "metadata": {},
   "outputs": [],
   "source": [
    "import yfinance as yf\n",
    "import pandas as pd"
   ]
  },
  {
   "cell_type": "code",
   "execution_count": 2,
   "id": "e8d4ca49-dc91-421a-85a0-0283bc7578fc",
   "metadata": {},
   "outputs": [
    {
     "name": "stdout",
     "output_type": "stream",
     "text": [
      "Fetching data for Apple (AAPL)\n"
     ]
    },
    {
     "name": "stderr",
     "output_type": "stream",
     "text": [
      "[*********************100%%**********************]  1 of 1 completed\n"
     ]
    },
    {
     "name": "stdout",
     "output_type": "stream",
     "text": [
      "Fetching data for Google (GOOGL)\n"
     ]
    },
    {
     "name": "stderr",
     "output_type": "stream",
     "text": [
      "[*********************100%%**********************]  1 of 1 completed\n"
     ]
    },
    {
     "name": "stdout",
     "output_type": "stream",
     "text": [
      "Fetching data for Microsoft (MSFT)\n"
     ]
    },
    {
     "name": "stderr",
     "output_type": "stream",
     "text": [
      "[*********************100%%**********************]  1 of 1 completed\n"
     ]
    },
    {
     "name": "stdout",
     "output_type": "stream",
     "text": [
      "Fetching data for Tesla (TSLA)\n"
     ]
    },
    {
     "name": "stderr",
     "output_type": "stream",
     "text": [
      "[*********************100%%**********************]  1 of 1 completed\n"
     ]
    },
    {
     "name": "stdout",
     "output_type": "stream",
     "text": [
      "Fetching data for Amazon (AMZN)\n"
     ]
    },
    {
     "name": "stderr",
     "output_type": "stream",
     "text": [
      "[*********************100%%**********************]  1 of 1 completed\n"
     ]
    },
    {
     "name": "stdout",
     "output_type": "stream",
     "text": [
      "Fetching data for Johnson & Johnson (JNJ)\n"
     ]
    },
    {
     "name": "stderr",
     "output_type": "stream",
     "text": [
      "[*********************100%%**********************]  1 of 1 completed\n"
     ]
    },
    {
     "name": "stdout",
     "output_type": "stream",
     "text": [
      "Fetching data for Exxon Mobil (XOM)\n"
     ]
    },
    {
     "name": "stderr",
     "output_type": "stream",
     "text": [
      "[*********************100%%**********************]  1 of 1 completed\n"
     ]
    },
    {
     "name": "stdout",
     "output_type": "stream",
     "text": [
      "Fetching data for JPMorgan Chase (JPM)\n"
     ]
    },
    {
     "name": "stderr",
     "output_type": "stream",
     "text": [
      "[*********************100%%**********************]  1 of 1 completed"
     ]
    },
    {
     "name": "stdout",
     "output_type": "stream",
     "text": [
      "Data collection complete and saved to sector_diverse_stock_data.csv\n"
     ]
    },
    {
     "name": "stderr",
     "output_type": "stream",
     "text": [
      "\n"
     ]
    }
   ],
   "source": [
    "# List of companies/tickers from different sectors\n",
    "tickers = {\n",
    "    'Apple': 'AAPL',           # Technology\n",
    "    'Google': 'GOOGL',         # Technology\n",
    "    'Microsoft': 'MSFT',       # Technology\n",
    "    'Tesla': 'TSLA',           # Automotive\n",
    "    'Amazon': 'AMZN',          # Retail\n",
    "    'Johnson & Johnson': 'JNJ',# Healthcare\n",
    "    'Exxon Mobil': 'XOM',      # Energy\n",
    "    'JPMorgan Chase': 'JPM'    # Financials\n",
    "}\n",
    "\n",
    "# Create an empty DataFrame to store data\n",
    "all_data = pd.DataFrame()\n",
    "\n",
    "# Fetch data for each ticker\n",
    "for company, ticker in tickers.items():\n",
    "    print(f\"Fetching data for {company} ({ticker})\")\n",
    "    data = yf.download(ticker, start='2020-01-01', end='2024-08-21')\n",
    "    data['Company'] = company  # Add company name as a column\n",
    "    data['Ticker'] = ticker    # Add ticker as a column\n",
    "    all_data = pd.concat([all_data, data])\n",
    "\n",
    "# Save the data to a CSV file\n",
    "all_data.to_csv('sector_diverse_stock_data.csv')\n",
    "\n",
    "print(\"Data collection complete and saved to sector_diverse_stock_data.csv\")\n"
   ]
  },
  {
   "cell_type": "code",
   "execution_count": 9,
   "id": "960e9a63-7426-42ef-93ac-e7985f2e5435",
   "metadata": {},
   "outputs": [
    {
     "data": {
      "text/html": [
       "<div>\n",
       "<style scoped>\n",
       "    .dataframe tbody tr th:only-of-type {\n",
       "        vertical-align: middle;\n",
       "    }\n",
       "\n",
       "    .dataframe tbody tr th {\n",
       "        vertical-align: top;\n",
       "    }\n",
       "\n",
       "    .dataframe thead th {\n",
       "        text-align: right;\n",
       "    }\n",
       "</style>\n",
       "<table border=\"1\" class=\"dataframe\">\n",
       "  <thead>\n",
       "    <tr style=\"text-align: right;\">\n",
       "      <th></th>\n",
       "      <th>Date</th>\n",
       "      <th>Open</th>\n",
       "      <th>High</th>\n",
       "      <th>Low</th>\n",
       "      <th>Close</th>\n",
       "      <th>Adj Close</th>\n",
       "      <th>Volume</th>\n",
       "      <th>Company</th>\n",
       "      <th>Ticker</th>\n",
       "    </tr>\n",
       "  </thead>\n",
       "  <tbody>\n",
       "    <tr>\n",
       "      <th>0</th>\n",
       "      <td>2020-01-02</td>\n",
       "      <td>74.059998</td>\n",
       "      <td>75.150002</td>\n",
       "      <td>73.797501</td>\n",
       "      <td>75.087502</td>\n",
       "      <td>72.876099</td>\n",
       "      <td>135480400</td>\n",
       "      <td>Apple</td>\n",
       "      <td>AAPL</td>\n",
       "    </tr>\n",
       "    <tr>\n",
       "      <th>1</th>\n",
       "      <td>2020-01-03</td>\n",
       "      <td>74.287498</td>\n",
       "      <td>75.144997</td>\n",
       "      <td>74.125000</td>\n",
       "      <td>74.357498</td>\n",
       "      <td>72.167618</td>\n",
       "      <td>146322800</td>\n",
       "      <td>Apple</td>\n",
       "      <td>AAPL</td>\n",
       "    </tr>\n",
       "    <tr>\n",
       "      <th>2</th>\n",
       "      <td>2020-01-06</td>\n",
       "      <td>73.447502</td>\n",
       "      <td>74.989998</td>\n",
       "      <td>73.187500</td>\n",
       "      <td>74.949997</td>\n",
       "      <td>72.742645</td>\n",
       "      <td>118387200</td>\n",
       "      <td>Apple</td>\n",
       "      <td>AAPL</td>\n",
       "    </tr>\n",
       "    <tr>\n",
       "      <th>3</th>\n",
       "      <td>2020-01-07</td>\n",
       "      <td>74.959999</td>\n",
       "      <td>75.224998</td>\n",
       "      <td>74.370003</td>\n",
       "      <td>74.597504</td>\n",
       "      <td>72.400551</td>\n",
       "      <td>108872000</td>\n",
       "      <td>Apple</td>\n",
       "      <td>AAPL</td>\n",
       "    </tr>\n",
       "    <tr>\n",
       "      <th>4</th>\n",
       "      <td>2020-01-08</td>\n",
       "      <td>74.290001</td>\n",
       "      <td>76.110001</td>\n",
       "      <td>74.290001</td>\n",
       "      <td>75.797501</td>\n",
       "      <td>73.565201</td>\n",
       "      <td>132079200</td>\n",
       "      <td>Apple</td>\n",
       "      <td>AAPL</td>\n",
       "    </tr>\n",
       "  </tbody>\n",
       "</table>\n",
       "</div>"
      ],
      "text/plain": [
       "         Date       Open       High        Low      Close  Adj Close  \\\n",
       "0  2020-01-02  74.059998  75.150002  73.797501  75.087502  72.876099   \n",
       "1  2020-01-03  74.287498  75.144997  74.125000  74.357498  72.167618   \n",
       "2  2020-01-06  73.447502  74.989998  73.187500  74.949997  72.742645   \n",
       "3  2020-01-07  74.959999  75.224998  74.370003  74.597504  72.400551   \n",
       "4  2020-01-08  74.290001  76.110001  74.290001  75.797501  73.565201   \n",
       "\n",
       "      Volume Company Ticker  \n",
       "0  135480400   Apple   AAPL  \n",
       "1  146322800   Apple   AAPL  \n",
       "2  118387200   Apple   AAPL  \n",
       "3  108872000   Apple   AAPL  \n",
       "4  132079200   Apple   AAPL  "
      ]
     },
     "execution_count": 9,
     "metadata": {},
     "output_type": "execute_result"
    }
   ],
   "source": [
    "data = pd.read_csv('sector_diverse_stock_data.csv')\n",
    "data.head()"
   ]
  },
  {
   "cell_type": "code",
   "execution_count": 10,
   "id": "6986748e-9330-4b71-bd9b-c6a6a4d9164f",
   "metadata": {},
   "outputs": [
    {
     "data": {
      "text/plain": [
       "83952"
      ]
     },
     "execution_count": 10,
     "metadata": {},
     "output_type": "execute_result"
    }
   ],
   "source": [
    "data.size"
   ]
  },
  {
   "cell_type": "code",
   "execution_count": 11,
   "id": "666c7318-5b02-4de1-a708-3b2d8c8310e9",
   "metadata": {},
   "outputs": [
    {
     "data": {
      "text/plain": [
       "Date          object\n",
       "Open         float64\n",
       "High         float64\n",
       "Low          float64\n",
       "Close        float64\n",
       "Adj Close    float64\n",
       "Volume         int64\n",
       "Company       object\n",
       "Ticker        object\n",
       "dtype: object"
      ]
     },
     "execution_count": 11,
     "metadata": {},
     "output_type": "execute_result"
    }
   ],
   "source": [
    "data.dtypes"
   ]
  },
  {
   "cell_type": "code",
   "execution_count": 12,
   "id": "582c9f68-4c74-45ed-9794-3ac75b2a3aa7",
   "metadata": {},
   "outputs": [
    {
     "name": "stdout",
     "output_type": "stream",
     "text": [
      "Date         0\n",
      "Open         0\n",
      "High         0\n",
      "Low          0\n",
      "Close        0\n",
      "Adj Close    0\n",
      "Volume       0\n",
      "Company      0\n",
      "Ticker       0\n",
      "dtype: int64\n"
     ]
    }
   ],
   "source": [
    "print(data.isnull().sum())"
   ]
  },
  {
   "cell_type": "code",
   "execution_count": 13,
   "id": "caa24ecb-d727-4661-82c1-61b51700ee42",
   "metadata": {},
   "outputs": [
    {
     "name": "stdout",
     "output_type": "stream",
     "text": [
      "Date         datetime64[ns]\n",
      "Open                float64\n",
      "High                float64\n",
      "Low                 float64\n",
      "Close               float64\n",
      "Adj Close           float64\n",
      "Volume                int64\n",
      "Company              object\n",
      "Ticker               object\n",
      "dtype: object\n"
     ]
    }
   ],
   "source": [
    "data['Date'] = pd.to_datetime(data['Date'])\n",
    "print(data.dtypes)"
   ]
  },
  {
   "cell_type": "code",
   "execution_count": 14,
   "id": "7505ca07-a419-49ef-ac78-8ca46c27477e",
   "metadata": {},
   "outputs": [],
   "source": [
    "data['Year'] = data['Date'].dt.year\n",
    "data['Month'] = data['Date'].dt.month\n",
    "data['Day'] = data['Date'].dt.day"
   ]
  },
  {
   "cell_type": "code",
   "execution_count": 15,
   "id": "0a984343-3853-46d1-8c01-00fbc4321d9c",
   "metadata": {},
   "outputs": [],
   "source": [
    "# Calculate the daily return\n",
    "data['Daily Return'] = data.groupby('Ticker')['Adj Close'].pct_change()\n",
    "\n",
    "# Fill any resulting NaN values\n",
    "data['Daily Return'].fillna(0, inplace=True)\n"
   ]
  },
  {
   "cell_type": "code",
   "execution_count": 16,
   "id": "ad5bb1fb-261b-4f46-a0cd-562c8f8ed879",
   "metadata": {},
   "outputs": [
    {
     "data": {
      "text/html": [
       "<div>\n",
       "<style scoped>\n",
       "    .dataframe tbody tr th:only-of-type {\n",
       "        vertical-align: middle;\n",
       "    }\n",
       "\n",
       "    .dataframe tbody tr th {\n",
       "        vertical-align: top;\n",
       "    }\n",
       "\n",
       "    .dataframe thead th {\n",
       "        text-align: right;\n",
       "    }\n",
       "</style>\n",
       "<table border=\"1\" class=\"dataframe\">\n",
       "  <thead>\n",
       "    <tr style=\"text-align: right;\">\n",
       "      <th></th>\n",
       "      <th>Date</th>\n",
       "      <th>Open</th>\n",
       "      <th>High</th>\n",
       "      <th>Low</th>\n",
       "      <th>Close</th>\n",
       "      <th>Adj Close</th>\n",
       "      <th>Volume</th>\n",
       "      <th>Company</th>\n",
       "      <th>Ticker</th>\n",
       "      <th>Year</th>\n",
       "      <th>Month</th>\n",
       "      <th>Day</th>\n",
       "      <th>Daily Return</th>\n",
       "    </tr>\n",
       "  </thead>\n",
       "  <tbody>\n",
       "    <tr>\n",
       "      <th>0</th>\n",
       "      <td>2020-01-02</td>\n",
       "      <td>74.059998</td>\n",
       "      <td>75.150002</td>\n",
       "      <td>73.797501</td>\n",
       "      <td>75.087502</td>\n",
       "      <td>72.876099</td>\n",
       "      <td>135480400</td>\n",
       "      <td>Apple</td>\n",
       "      <td>AAPL</td>\n",
       "      <td>2020</td>\n",
       "      <td>1</td>\n",
       "      <td>2</td>\n",
       "      <td>0.000000</td>\n",
       "    </tr>\n",
       "    <tr>\n",
       "      <th>1</th>\n",
       "      <td>2020-01-03</td>\n",
       "      <td>74.287498</td>\n",
       "      <td>75.144997</td>\n",
       "      <td>74.125000</td>\n",
       "      <td>74.357498</td>\n",
       "      <td>72.167618</td>\n",
       "      <td>146322800</td>\n",
       "      <td>Apple</td>\n",
       "      <td>AAPL</td>\n",
       "      <td>2020</td>\n",
       "      <td>1</td>\n",
       "      <td>3</td>\n",
       "      <td>-0.009722</td>\n",
       "    </tr>\n",
       "    <tr>\n",
       "      <th>2</th>\n",
       "      <td>2020-01-06</td>\n",
       "      <td>73.447502</td>\n",
       "      <td>74.989998</td>\n",
       "      <td>73.187500</td>\n",
       "      <td>74.949997</td>\n",
       "      <td>72.742645</td>\n",
       "      <td>118387200</td>\n",
       "      <td>Apple</td>\n",
       "      <td>AAPL</td>\n",
       "      <td>2020</td>\n",
       "      <td>1</td>\n",
       "      <td>6</td>\n",
       "      <td>0.007968</td>\n",
       "    </tr>\n",
       "    <tr>\n",
       "      <th>3</th>\n",
       "      <td>2020-01-07</td>\n",
       "      <td>74.959999</td>\n",
       "      <td>75.224998</td>\n",
       "      <td>74.370003</td>\n",
       "      <td>74.597504</td>\n",
       "      <td>72.400551</td>\n",
       "      <td>108872000</td>\n",
       "      <td>Apple</td>\n",
       "      <td>AAPL</td>\n",
       "      <td>2020</td>\n",
       "      <td>1</td>\n",
       "      <td>7</td>\n",
       "      <td>-0.004703</td>\n",
       "    </tr>\n",
       "    <tr>\n",
       "      <th>4</th>\n",
       "      <td>2020-01-08</td>\n",
       "      <td>74.290001</td>\n",
       "      <td>76.110001</td>\n",
       "      <td>74.290001</td>\n",
       "      <td>75.797501</td>\n",
       "      <td>73.565201</td>\n",
       "      <td>132079200</td>\n",
       "      <td>Apple</td>\n",
       "      <td>AAPL</td>\n",
       "      <td>2020</td>\n",
       "      <td>1</td>\n",
       "      <td>8</td>\n",
       "      <td>0.016086</td>\n",
       "    </tr>\n",
       "  </tbody>\n",
       "</table>\n",
       "</div>"
      ],
      "text/plain": [
       "        Date       Open       High        Low      Close  Adj Close  \\\n",
       "0 2020-01-02  74.059998  75.150002  73.797501  75.087502  72.876099   \n",
       "1 2020-01-03  74.287498  75.144997  74.125000  74.357498  72.167618   \n",
       "2 2020-01-06  73.447502  74.989998  73.187500  74.949997  72.742645   \n",
       "3 2020-01-07  74.959999  75.224998  74.370003  74.597504  72.400551   \n",
       "4 2020-01-08  74.290001  76.110001  74.290001  75.797501  73.565201   \n",
       "\n",
       "      Volume Company Ticker  Year  Month  Day  Daily Return  \n",
       "0  135480400   Apple   AAPL  2020      1    2      0.000000  \n",
       "1  146322800   Apple   AAPL  2020      1    3     -0.009722  \n",
       "2  118387200   Apple   AAPL  2020      1    6      0.007968  \n",
       "3  108872000   Apple   AAPL  2020      1    7     -0.004703  \n",
       "4  132079200   Apple   AAPL  2020      1    8      0.016086  "
      ]
     },
     "execution_count": 16,
     "metadata": {},
     "output_type": "execute_result"
    }
   ],
   "source": [
    "data.head()"
   ]
  },
  {
   "cell_type": "code",
   "execution_count": 17,
   "id": "3dd48f29-9399-45cd-acd6-e94973ceb62f",
   "metadata": {},
   "outputs": [
    {
     "data": {
      "image/png": "[encoded data removed]",
      "text/plain": [
       "<Figure size 1200x600 with 1 Axes>"
      ]
     },
     "metadata": {},
     "output_type": "display_data"
    }
   ],
   "source": [
    "import matplotlib.pyplot as plt\n",
    "import seaborn as sns\n",
    "\n",
    "# Boxplot to detect outliers\n",
    "plt.figure(figsize=(12, 6))\n",
    "sns.boxplot(x='Ticker', y='Daily Return', data=data)\n",
    "plt.title('Boxplot of Daily Returns by Company')\n",
    "plt.show()"
   ]
  },
  {
   "cell_type": "code",
   "execution_count": 18,
   "id": "d53faf19-8f7d-402b-a2eb-1396a2ca4049",
   "metadata": {},
   "outputs": [],
   "source": [
    "data = data[(data['Daily Return'] >= -3*data['Daily Return'].std()) &\n",
    "            (data['Daily Return'] <= 3*data['Daily Return'].std())]"
   ]
  },
  {
   "cell_type": "code",
   "execution_count": 19,
   "id": "4069b705-e1cd-43b5-8462-5fabfa8e0c6c",
   "metadata": {},
   "outputs": [
    {
     "data": {
      "image/png": "[encoded data removed]",
      "text/plain": [
       "<Figure size 1200x600 with 1 Axes>"
      ]
     },
     "metadata": {},
     "output_type": "display_data"
    }
   ],
   "source": [
    "plt.figure(figsize=(12, 6))\n",
    "sns.boxplot(x='Ticker', y='Daily Return', data=data)\n",
    "plt.title('Boxplot of Daily Returns by Company')\n",
    "plt.show()"
   ]
  },
  {
   "cell_type": "code",
   "execution_count": 20,
   "id": "134c82ca-366c-4f49-8334-a7129cbf8215",
   "metadata": {},
   "outputs": [
    {
     "name": "stdout",
     "output_type": "stream",
     "text": [
      "        Date      Open      High       Low     Close  Adj Close    Volume  \\\n",
      "0 2020-01-02  0.104308  0.105625  0.108199  0.106103   0.107907  0.200772   \n",
      "1 2020-01-03  0.104827  0.105614  0.108946  0.104441   0.106303  0.217094   \n",
      "2 2020-01-06  0.102912  0.105261  0.106806  0.105790   0.107605  0.175039   \n",
      "3 2020-01-07  0.106360  0.105796  0.109506  0.104987   0.106830  0.160715   \n",
      "4 2020-01-08  0.104832  0.107809  0.109323  0.107720   0.109468  0.195652   \n",
      "\n",
      "  Company Ticker  Year  Month  Day  Daily Return  \n",
      "0   Apple   AAPL  2020      1    2      0.000000  \n",
      "1   Apple   AAPL  2020      1    3     -0.009722  \n",
      "2   Apple   AAPL  2020      1    6      0.007968  \n",
      "3   Apple   AAPL  2020      1    7     -0.004703  \n",
      "4   Apple   AAPL  2020      1    8      0.016086  \n"
     ]
    }
   ],
   "source": [
    "from sklearn.preprocessing import MinMaxScaler\n",
    "\n",
    "# Select columns to scale (e.g., Open, High, Low, Close, Volume)\n",
    "cols_to_scale = ['Open', 'High', 'Low', 'Close', 'Adj Close', 'Volume']\n",
    "\n",
    "# Initialize the scaler\n",
    "scaler = MinMaxScaler()\n",
    "\n",
    "# Fit and transform the data\n",
    "data[cols_to_scale] = scaler.fit_transform(data[cols_to_scale])\n",
    "\n",
    "# Display the first few rows to verify\n",
    "print(data.head())"
   ]
  },
  {
   "cell_type": "code",
   "execution_count": 21,
   "id": "220324a9-13ff-4c3c-8729-ee2f8147148f",
   "metadata": {},
   "outputs": [
    {
     "name": "stdout",
     "output_type": "stream",
     "text": [
      "        Date      Open      High       Low     Close  Adj Close    Volume  \\\n",
      "0 2020-01-02  0.104308  0.105625  0.108199  0.106103   0.107907  0.200772   \n",
      "1 2020-01-03  0.104827  0.105614  0.108946  0.104441   0.106303  0.217094   \n",
      "2 2020-01-06  0.102912  0.105261  0.106806  0.105790   0.107605  0.175039   \n",
      "3 2020-01-07  0.106360  0.105796  0.109506  0.104987   0.106830  0.160715   \n",
      "4 2020-01-08  0.104832  0.107809  0.109323  0.107720   0.109468  0.195652   \n",
      "\n",
      "  Company  Year  Month  Day  Daily Return  Ticker_AAPL  Ticker_AMZN  \\\n",
      "0   Apple  2020      1    2      0.000000         True        False   \n",
      "1   Apple  2020      1    3     -0.009722         True        False   \n",
      "2   Apple  2020      1    6      0.007968         True        False   \n",
      "3   Apple  2020      1    7     -0.004703         True        False   \n",
      "4   Apple  2020      1    8      0.016086         True        False   \n",
      "\n",
      "   Ticker_GOOGL  Ticker_JNJ  Ticker_JPM  Ticker_MSFT  Ticker_TSLA  Ticker_XOM  \n",
      "0         False       False       False        False        False       False  \n",
      "1         False       False       False        False        False       False  \n",
      "2         False       False       False        False        False       False  \n",
      "3         False       False       False        False        False       False  \n",
      "4         False       False       False        False        False       False  \n"
     ]
    }
   ],
   "source": [
    "# One-hot encoding for Ticker symbols\n",
    "data = pd.get_dummies(data, columns=['Ticker'])\n",
    "\n",
    "# Display the first few rows to verify\n",
    "print(data.head())\n"
   ]
  },
  {
   "cell_type": "code",
   "execution_count": null,
   "id": "71f40e7a-23d2-4a4e-83d9-b153f72a0a0a",
   "metadata": {},
   "outputs": [],
   "source": []
  },
  {
   "cell_type": "code",
   "execution_count": null,
   "id": "2cd7153c-cd7a-41af-9020-6b15e62d51f6",
   "metadata": {},
   "outputs": [],
   "source": []
  },
  {
   "cell_type": "code",
   "execution_count": null,
   "id": "85b88310-5e63-44e4-8b7c-57e2fddca856",
   "metadata": {},
   "outputs": [],
   "source": []
  },
  {
   "cell_type": "code",
   "execution_count": null,
   "id": "0ff23c0e-07ab-405e-a728-2abcd2a8305f",
   "metadata": {},
   "outputs": [],
   "source": []
  }
 ],
 "metadata": {
  "kernelspec": {
   "display_name": "Python 3 (ipykernel)",
   "language": "python",
   "name": "python3"
  },
  "language_info": {
   "codemirror_mode": {
    "name": "ipython",
    "version": 3
   },
   "file_extension": ".py",
   "mimetype": "text/x-python",
   "name": "python",
   "nbconvert_exporter": "python",
   "pygments_lexer": "ipython3",
   "version": "3.11.7"
  }
 },
 "nbformat": 4,
 "nbformat_minor": 5
}
